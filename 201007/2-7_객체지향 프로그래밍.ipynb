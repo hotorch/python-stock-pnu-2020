{
 "cells": [
  {
   "cell_type": "markdown",
   "metadata": {},
   "source": [
    "# 객체지향 프로그래밍"
   ]
  },
  {
   "cell_type": "markdown",
   "metadata": {},
   "source": [
    "- 프로그램을 수많은 '객체'라는 기본 단위로 나누고, 이 객체들의 상호작용으로 서술하는 방식\n",
    "- 객체: 하나의 역할을 수행하는 '메소드와 변수(데이터)'의 묶음\n",
    "- 큰 문제를 작게 쪼개는 것이 아니라, 작은 문제들을 해결할 수 있는 객체들을 만든 뒤, 이 객체들을 조합해서 큰 문제를 해결하는 방식"
   ]
  },
  {
   "cell_type": "markdown",
   "metadata": {},
   "source": [
    "### 클래스와 객체"
   ]
  },
  {
   "cell_type": "code",
   "execution_count": null,
   "metadata": {},
   "outputs": [],
   "source": [
    "class Cookie:\n",
    "    pass\n",
    "\n",
    "a = Cookie()"
   ]
  },
  {
   "cell_type": "markdown",
   "metadata": {},
   "source": [
    "- Cookie: 클래스(통상적으로 첫 문자를 대문자로 지정)\n",
    "- a: 객체이면서 Cookie(클래스)의 인스턴스\n",
    "- 인스턴스: 클래스에서 생성한 객체(일반적인 객체와 클래스에서 생성한 객체를 구분하기 위해)"
   ]
  },
  {
   "cell_type": "markdown",
   "metadata": {},
   "source": [
    "### 예제: 사칙연산 클래스 만들기"
   ]
  },
  {
   "cell_type": "code",
   "execution_count": 1,
   "metadata": {},
   "outputs": [],
   "source": [
    "class FourCal:\n",
    "    \"\"\"사칙연산 클래스\"\"\"\n",
    "    def __init__(self, first, second):\n",
    "        \"\"\"__init__ 함수\"\"\"\n",
    "        self.first = first\n",
    "        self.second = second\n",
    "    \n",
    "    def set_data(self, first, second):\n",
    "        self.first = first\n",
    "        self.second = second\n",
    "    \n",
    "    def add(self):\n",
    "        return self.first + self.second\n",
    "    \n",
    "    def mul(self):\n",
    "        return self.first * self.second\n",
    "    \n",
    "    def sub(self):\n",
    "        return self.first - self.second\n",
    "    \n",
    "    def div(self):\n",
    "        return self.first / self.second\n",
    "    \n",
    "    def __del__(self):\n",
    "        print('클래스를 삭제합니다.')"
   ]
  },
  {
   "cell_type": "code",
   "execution_count": 2,
   "metadata": {},
   "outputs": [],
   "source": [
    "# 인스턴스화(instantiation)\n",
    "res = FourCal(3, 5)"
   ]
  },
  {
   "cell_type": "code",
   "execution_count": 4,
   "metadata": {},
   "outputs": [
    {
     "data": {
      "text/plain": [
       "3"
      ]
     },
     "execution_count": 4,
     "metadata": {},
     "output_type": "execute_result"
    }
   ],
   "source": [
    "res.first"
   ]
  },
  {
   "cell_type": "code",
   "execution_count": 3,
   "metadata": {},
   "outputs": [
    {
     "data": {
      "text/plain": [
       "5"
      ]
     },
     "execution_count": 3,
     "metadata": {},
     "output_type": "execute_result"
    }
   ],
   "source": [
    "res.second"
   ]
  },
  {
   "cell_type": "code",
   "execution_count": 5,
   "metadata": {},
   "outputs": [
    {
     "name": "stdout",
     "output_type": "stream",
     "text": [
      "함수 add 결과: 8\n"
     ]
    }
   ],
   "source": [
    "print('함수 add 결과: %s' % res.add())"
   ]
  },
  {
   "cell_type": "code",
   "execution_count": 6,
   "metadata": {},
   "outputs": [
    {
     "name": "stdout",
     "output_type": "stream",
     "text": [
      "함수 mul 결과: 15\n"
     ]
    }
   ],
   "source": [
    "print('함수 mul 결과: %s' % res.mul())"
   ]
  },
  {
   "cell_type": "code",
   "execution_count": 7,
   "metadata": {},
   "outputs": [
    {
     "name": "stdout",
     "output_type": "stream",
     "text": [
      "함수 sub 결과: -2\n"
     ]
    }
   ],
   "source": [
    "print('함수 sub 결과: %s' % res.sub())"
   ]
  },
  {
   "cell_type": "code",
   "execution_count": 8,
   "metadata": {},
   "outputs": [
    {
     "name": "stdout",
     "output_type": "stream",
     "text": [
      "함수 div 결과: 0.6\n"
     ]
    }
   ],
   "source": [
    "print('함수 div 결과: %s' % res.div())"
   ]
  },
  {
   "cell_type": "code",
   "execution_count": 9,
   "metadata": {},
   "outputs": [],
   "source": [
    "# 새로운 data 입력\n",
    "res.set_data(2, 10)"
   ]
  },
  {
   "cell_type": "code",
   "execution_count": 10,
   "metadata": {},
   "outputs": [
    {
     "name": "stdout",
     "output_type": "stream",
     "text": [
      "함수 add 결과: 12\n"
     ]
    }
   ],
   "source": [
    "print('함수 add 결과: %s' % res.add())"
   ]
  },
  {
   "cell_type": "code",
   "execution_count": 11,
   "metadata": {},
   "outputs": [
    {
     "name": "stdout",
     "output_type": "stream",
     "text": [
      "함수 mul 결과: 20\n"
     ]
    }
   ],
   "source": [
    "print('함수 mul 결과: %s' % res.mul())"
   ]
  },
  {
   "cell_type": "code",
   "execution_count": 12,
   "metadata": {},
   "outputs": [
    {
     "name": "stdout",
     "output_type": "stream",
     "text": [
      "함수 sub 결과: -8\n"
     ]
    }
   ],
   "source": [
    "print('함수 sub 결과: %s' % res.sub())"
   ]
  },
  {
   "cell_type": "code",
   "execution_count": 13,
   "metadata": {},
   "outputs": [
    {
     "name": "stdout",
     "output_type": "stream",
     "text": [
      "함수 div 결과: 0.2\n"
     ]
    }
   ],
   "source": [
    "print('함수 div 결과: %s' % res.div())"
   ]
  },
  {
   "cell_type": "code",
   "execution_count": 14,
   "metadata": {},
   "outputs": [
    {
     "name": "stdout",
     "output_type": "stream",
     "text": [
      "클래스를 삭제합니다.\n"
     ]
    }
   ],
   "source": [
    "del(res)"
   ]
  },
  {
   "cell_type": "code",
   "execution_count": 15,
   "metadata": {},
   "outputs": [
    {
     "name": "stdout",
     "output_type": "stream",
     "text": [
      "Help on class FourCal in module __main__:\n",
      "\n",
      "class FourCal(builtins.object)\n",
      " |  FourCal(first, second)\n",
      " |  \n",
      " |  사칙연산 클래스\n",
      " |  \n",
      " |  Methods defined here:\n",
      " |  \n",
      " |  __del__(self)\n",
      " |  \n",
      " |  __init__(self, first, second)\n",
      " |      __init__ 함수\n",
      " |  \n",
      " |  add(self)\n",
      " |  \n",
      " |  div(self)\n",
      " |  \n",
      " |  mul(self)\n",
      " |  \n",
      " |  set_data(self, first, second)\n",
      " |  \n",
      " |  sub(self)\n",
      " |  \n",
      " |  ----------------------------------------------------------------------\n",
      " |  Data descriptors defined here:\n",
      " |  \n",
      " |  __dict__\n",
      " |      dictionary for instance variables (if defined)\n",
      " |  \n",
      " |  __weakref__\n",
      " |      list of weak references to the object (if defined)\n",
      "\n"
     ]
    }
   ],
   "source": [
    "help(FourCal)"
   ]
  },
  {
   "cell_type": "markdown",
   "metadata": {},
   "source": [
    "# 상속\n",
    "\n",
    "- [Class] 상속 : [다른 Class의 기능(메소드, 속성)] 물려받다\n",
    "\n",
    "\n",
    "- 부모 클래스 (슈퍼 클래스) : 상속을 해주는 클래스\n",
    "- 자식 클래스 (서브 클래스) : 상속을 받는 클래스\n",
    "\n",
    "### 상속 Class 만들기"
   ]
  },
  {
   "cell_type": "code",
   "execution_count": null,
   "metadata": {},
   "outputs": [],
   "source": [
    "# class 클래스 이름(상속할 클래스 이름)\n",
    "class MoreFourCal(FourCal):\n",
    "    pass"
   ]
  },
  {
   "cell_type": "code",
   "execution_count": null,
   "metadata": {},
   "outputs": [],
   "source": [
    "a = MoreFourCal(4, 2)\n",
    "\n",
    "print(\"합 : \", a.add(), '\\n',\n",
    "      \"곱 : \", a.mul(), '\\n',\n",
    "      \"빼기 : \", a.sub(), '\\n',\n",
    "      \"나누기 : \", a.div(), sep=\"\")"
   ]
  },
  {
   "cell_type": "markdown",
   "metadata": {},
   "source": [
    "### 상속의 효과 : 기존 클래스 변경없이 기능 추가/변경 가능\n",
    "##### 상속의 효과  (1) 기존 클래스에 기능 추가"
   ]
  },
  {
   "cell_type": "code",
   "execution_count": null,
   "metadata": {},
   "outputs": [],
   "source": [
    "class MoreFourCal(FourCal):\n",
    "    def pow(self):\n",
    "        result = self.first ** self.second\n",
    "        return result"
   ]
  },
  {
   "cell_type": "code",
   "execution_count": null,
   "metadata": {},
   "outputs": [],
   "source": [
    "a = MoreFourCal(4, 2)\n",
    "\n",
    "a.pow()"
   ]
  },
  {
   "cell_type": "markdown",
   "metadata": {},
   "source": [
    "##### 상속의 효과  (2) 기존 클래스에 기능 변경  (메서드 오버라이딩)"
   ]
  },
  {
   "cell_type": "code",
   "execution_count": null,
   "metadata": {},
   "outputs": [],
   "source": [
    "a = FourCal(4, 0)\n",
    "a.div()"
   ]
  },
  {
   "cell_type": "code",
   "execution_count": null,
   "metadata": {},
   "outputs": [],
   "source": [
    "class SafeFourCal(FourCal):\n",
    "    def div(self):\n",
    "        if self.second == 0:  # 나누는 값이 0인 경우 0을 리턴하도록 수정\n",
    "            return 0\n",
    "        else:\n",
    "            return self.first / self.second"
   ]
  },
  {
   "cell_type": "code",
   "execution_count": null,
   "metadata": {},
   "outputs": [],
   "source": [
    "a = SafeFourCal(4, 0)\n",
    "a.div()"
   ]
  },
  {
   "cell_type": "markdown",
   "metadata": {},
   "source": [
    "메서드 오버라이딩(Overriding, 덮어쓰기) : 부모 클래스(상속한 클래스)에 있는 메서드를 동일한 이름으로 다시 만드는 것"
   ]
  },
  {
   "cell_type": "code",
   "execution_count": null,
   "metadata": {},
   "outputs": [],
   "source": []
  }
 ],
 "metadata": {
  "kernelspec": {
   "display_name": "Python 3",
   "language": "python",
   "name": "python3"
  },
  "language_info": {
   "codemirror_mode": {
    "name": "ipython",
    "version": 3
   },
   "file_extension": ".py",
   "mimetype": "text/x-python",
   "name": "python",
   "nbconvert_exporter": "python",
   "pygments_lexer": "ipython3",
   "version": "3.8.3"
  }
 },
 "nbformat": 4,
 "nbformat_minor": 4
}
