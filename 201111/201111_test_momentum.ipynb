{
 "cells": [
  {
   "cell_type": "code",
   "execution_count": 1,
   "metadata": {},
   "outputs": [],
   "source": [
    "import pandas as pd\n",
    "import pymysql\n",
    "from datetime import datetime\n",
    "from datetime import timedelta\n",
    "\n",
    "import ch06_12_DualMomentum "
   ]
  },
  {
   "cell_type": "code",
   "execution_count": 2,
   "metadata": {},
   "outputs": [],
   "source": [
    "dm = ch06_12_DualMomentum.DualMomentum()"
   ]
  },
  {
   "cell_type": "code",
   "execution_count": 3,
   "metadata": {},
   "outputs": [
    {
     "name": "stdout",
     "output_type": "stream",
     "text": [
      "      code  company  old_price  new_price      returns\n",
      "0   025560     미래산업         80       3265  3981.250000\n",
      "1   012790     신일제약       7470      31100   316.331995\n",
      "2   019170     신풍제약      16700      69000   313.173653\n",
      "3   017650     대림제지       1690       6900   308.284024\n",
      "4   003680     한성기업       4790      17250   260.125261\n",
      "5   036810    에프에스티       8010      27400   242.072409\n",
      "6   025900     동화기업      15100      49550   228.145695\n",
      "7   000910      유니온       3000       9000   200.000000\n",
      "8   005360      모나미       3260       9690   197.239264\n",
      "9   043100    솔고바이오        140        392   180.000000\n",
      "10  047400  유니온머티리얼       1860       5080   173.118280\n",
      "11  034020    두산중공업       3995      10500   162.828536\n",
      "12  007570     일양약품      32800      84000   156.097561\n",
      "13  025950     동신건설       5680      14500   155.281690\n",
      "14  045660      에이텍      11850      28450   140.084388\n",
      "15  003620    쌍용자동차       1560       3685   136.217949\n",
      "16  011080    형지I&C        509       1200   135.756385\n",
      "17  051490    나라엠앤디       3370       7780   130.860534\n",
      "18  044380     주연테크        537       1200   123.463687\n",
      "19  044490       태웅       5760      12850   123.090278\n",
      "20  018000      유니슨        925       2030   119.459459\n",
      "21  002410     범양건영       2940       6450   119.387755\n",
      "22  000020     동화약품      11250      24400   116.888889\n",
      "23  005390     신성통상       1115       2360   111.659193\n",
      "24  033560      블루콤       4035       8380   107.682776\n",
      "\n",
      "Relative momentum (2020-04-29 ~ 2020-07-31) : 329.54% \n",
      "\n"
     ]
    }
   ],
   "source": [
    "rm = dm.get_rltv_momentum('2020-05-01','2020-08-01',25)"
   ]
  },
  {
   "cell_type": "code",
   "execution_count": 4,
   "metadata": {},
   "outputs": [
    {
     "name": "stdout",
     "output_type": "stream",
     "text": [
      "      code  company  old_price  new_price     returns\n",
      "20  018000      유니슨       2030       5910  191.133005\n",
      "2   019170     신풍제약      69000     128500   86.231884\n",
      "17  051490    나라엠앤디       7780      12700   63.239075\n",
      "11  034020    두산중공업      10500      15950   51.904762\n",
      "3   017650     대림제지       6900       8480   22.898551\n",
      "19  044490       태웅      12850      15400   19.844358\n",
      "14  045660      에이텍      28450      32700   14.938489\n",
      "15  003620    쌍용자동차       3685       4075   10.583446\n",
      "16  011080    형지I&C       1200       1240    3.333333\n",
      "9   043100    솔고바이오        392        392    0.000000\n",
      "0   025560     미래산업       3265       3115   -4.594181\n",
      "18  044380     주연테크       1200       1140   -5.000000\n",
      "12  007570     일양약품      84000      71000  -15.476190\n",
      "21  002410     범양건영       6450       5440  -15.658915\n",
      "10  047400  유니온머티리얼       5080       4145  -18.405512\n",
      "5   036810    에프에스티      27400      22100  -19.343066\n",
      "13  025950     동신건설      14500      11650  -19.655172\n",
      "23  005390     신성통상       2360       1865  -20.974576\n",
      "6   025900     동화기업      49550      38350  -22.603431\n",
      "22  000020     동화약품      24400      18100  -25.819672\n",
      "24  033560      블루콤       8380       6140  -26.730310\n",
      "7   000910      유니온       9000       6420  -28.666667\n",
      "1   012790     신일제약      31100      21700  -30.225080\n",
      "8   005360      모나미       9690       6530  -32.610939\n",
      "4   003680     한성기업      17250       9300  -46.086957\n",
      "\n",
      "Abasolute momentum (2020-07-31 ~ 2020-11-10) : 5.29%\n"
     ]
    }
   ],
   "source": [
    "am = dm.get_abs_momentum(rltv_momentum=rm,\n",
    "                         start_date='2020-08-01',\n",
    "                         end_date='2020-11-10')"
   ]
  },
  {
   "cell_type": "code",
   "execution_count": 5,
   "metadata": {},
   "outputs": [
    {
     "name": "stdout",
     "output_type": "stream",
     "text": [
      "     code company  old_price  new_price      returns\n",
      "0  025560    미래산업         80       3265  3981.250000\n",
      "1  012790    신일제약       7470      31100   316.331995\n",
      "2  019170    신풍제약      16700      69000   313.173653\n",
      "3  017650    대림제지       1690       6900   308.284024\n",
      "4  003680    한성기업       4790      17250   260.125261\n",
      "5  036810   에프에스티       8010      27400   242.072409\n",
      "6  025900    동화기업      15100      49550   228.145695\n",
      "7  000910     유니온       3000       9000   200.000000\n",
      "8  005360     모나미       3260       9690   197.239264\n",
      "9  043100   솔고바이오        140        392   180.000000\n",
      "\n",
      "Relative momentum (2020-04-29 ~ 2020-07-31) : 622.66% \n",
      "\n"
     ]
    }
   ],
   "source": [
    "rm = dm.get_rltv_momentum('2020-05-01','2020-08-01',10)"
   ]
  },
  {
   "cell_type": "code",
   "execution_count": 6,
   "metadata": {},
   "outputs": [
    {
     "name": "stdout",
     "output_type": "stream",
     "text": [
      "     code company  old_price  new_price    returns\n",
      "2  019170    신풍제약      69000     128500  86.231884\n",
      "3  017650    대림제지       6900       8480  22.898551\n",
      "9  043100   솔고바이오        392        392   0.000000\n",
      "0  025560    미래산업       3265       3115  -4.594181\n",
      "5  036810   에프에스티      27400      22100 -19.343066\n",
      "6  025900    동화기업      49550      38350 -22.603431\n",
      "7  000910     유니온       9000       6420 -28.666667\n",
      "1  012790    신일제약      31100      21700 -30.225080\n",
      "8  005360     모나미       9690       6530 -32.610939\n",
      "4  003680    한성기업      17250       9300 -46.086957\n",
      "\n",
      "Abasolute momentum (2020-07-31 ~ 2020-11-10) : -7.50%\n"
     ]
    }
   ],
   "source": [
    "am = dm.get_abs_momentum(rltv_momentum=rm,\n",
    "                         start_date='2020-08-01',\n",
    "                         end_date='2020-11-10')"
   ]
  },
  {
   "cell_type": "markdown",
   "metadata": {},
   "source": [
    "## 더 고려해볼 만한 기법들? \n",
    "- PER, PBR(성장주보단 가치주에 먹히는 경험이 있었음)  \n",
    "- 골든크로스 clo5 > clo20 또는 clo5 > clo40 이면 매수/ 아니면 매도  \n",
    "- 제시리버모어 추세추종 전략 피라미딩 기법  \n",
    "- 도날드 램버트 (Donald R. Lambert) CCI (Commodity Channel Index) 기법  \n",
    "- RSI, 변동성 돌파전략(뒤에 책 나옴)   \n",
    "- 솔직히 퀀트 기법 구글링많이하면 쏟아져 나옴  \n",
    "\n",
    "## 고려사항\n",
    "- 유명한 기법들이 미국시장에 잘 맞아도 한국 시장에 잘 맞는다는 보장이 없음(시장마다 차이가 있음)  \n",
    "- 그래서 기법들에서 나오는 숫자들이 어떻게 보면 hyperparamter임  \n",
    "\n",
    "→ 백테스팅 많이해서 자기 입맛에 맞게 해줘야함.  \n",
    "→ 근데 기법들 너무 다양하고 시기별로 좋은전략이 너무 상이해서 유지보수 공수가 많이 들어감    \n",
    "→ 화이팅!"
   ]
  },
  {
   "cell_type": "code",
   "execution_count": null,
   "metadata": {},
   "outputs": [],
   "source": []
  }
 ],
 "metadata": {
  "kernelspec": {
   "display_name": "Python 3",
   "language": "python",
   "name": "python3"
  },
  "language_info": {
   "codemirror_mode": {
    "name": "ipython",
    "version": 3
   },
   "file_extension": ".py",
   "mimetype": "text/x-python",
   "name": "python",
   "nbconvert_exporter": "python",
   "pygments_lexer": "ipython3",
   "version": "3.7.3"
  },
  "varInspector": {
   "cols": {
    "lenName": 16,
    "lenType": 16,
    "lenVar": 40
   },
   "kernels_config": {
    "python": {
     "delete_cmd_postfix": "",
     "delete_cmd_prefix": "del ",
     "library": "var_list.py",
     "varRefreshCmd": "print(var_dic_list())"
    },
    "r": {
     "delete_cmd_postfix": ") ",
     "delete_cmd_prefix": "rm(",
     "library": "var_list.r",
     "varRefreshCmd": "cat(var_dic_list()) "
    }
   },
   "types_to_exclude": [
    "module",
    "function",
    "builtin_function_or_method",
    "instance",
    "_Feature"
   ],
   "window_display": false
  }
 },
 "nbformat": 4,
 "nbformat_minor": 2
}
