{
 "cells": [
  {
   "cell_type": "code",
   "execution_count": null,
   "metadata": {},
   "outputs": [],
   "source": [
    "import sys\n",
    "sys.path.append('/Users/user/StockAnalysisInPython/05_Stock_Price_API/')\n",
    "from Investar import Analyzer\n",
    "mk = Analyzer.MarketDB()\n",
    "# error : OperationalError: (1045, \"Access denied for user 'root'@'localhost' (using password: YES)\")\n",
    "# grant all privileges on *.* to root@localhost identified BY 'passwords' with grant option;\n",
    "# ref : https://stackoverflow.com/questions/10181344/mysql-exceptions-operationalerror-1045-access-denied-for-user-rootlocalh"
   ]
  },
  {
   "cell_type": "code",
   "execution_count": null,
   "metadata": {},
   "outputs": [],
   "source": [
    "# !pip install pandas_datareader\n",
    "# !pip install yfinance"
   ]
  },
  {
   "cell_type": "code",
   "execution_count": null,
   "metadata": {},
   "outputs": [],
   "source": [
    "import matplotlib.pyplot as plt\n",
    "import pandas as pd\n",
    "import numpy as np\n",
    "from slacker import Slacker\n",
    "import time\n",
    "from pandas_datareader import data as pdr \n",
    "import yfinance as yf\n",
    "yf.pdr_override()"
   ]
  },
  {
   "cell_type": "code",
   "execution_count": null,
   "metadata": {},
   "outputs": [],
   "source": [
    "# mk.get_daily_price() 하는 것과 비슷하게 구성해야함\n",
    "stocks = [\"NVDA\",\"SQ\",\"AMZN\",\"FNGU\",\"O\",\"QQQ\",\"TQQQ\"]\n",
    "df = pd.DataFrame()\n",
    "for s in stocks:\n",
    "    df[s] = pdr.get_data_yahoo(tickers = s,\n",
    "                          start = '2020-01-01',\n",
    "                          end = '2020-11-03',\n",
    "                         auto_adjust=False)['Close']"
   ]
  },
  {
   "cell_type": "code",
   "execution_count": null,
   "metadata": {},
   "outputs": [],
   "source": [
    "df.head()"
   ]
  },
  {
   "cell_type": "code",
   "execution_count": null,
   "metadata": {},
   "outputs": [],
   "source": [
    "# 하나의 종목만 보고 싶을 때\n",
    "# aapl = pdr.get_data_yahoo(tickers=\"AAPL\",\n",
    "#                           start = '2020-09-01',\n",
    "#                           end = '2020-10-31',\n",
    "#                          auto_adjust=False)\n",
    "# aapl.head()"
   ]
  },
  {
   "cell_type": "code",
   "execution_count": null,
   "metadata": {},
   "outputs": [],
   "source": [
    "daily_ret = df.pct_change() \n",
    "annual_ret = daily_ret.mean() * 252\n",
    "daily_cov = daily_ret.cov() \n",
    "annual_cov = daily_cov * 252"
   ]
  },
  {
   "cell_type": "code",
   "execution_count": null,
   "metadata": {},
   "outputs": [],
   "source": [
    "annual_cov"
   ]
  },
  {
   "cell_type": "code",
   "execution_count": null,
   "metadata": {},
   "outputs": [],
   "source": [
    "port_ret = [] \n",
    "port_risk = [] \n",
    "port_weights = [] \n",
    "sharpe_ratio = [] "
   ]
  },
  {
   "cell_type": "code",
   "execution_count": null,
   "metadata": {},
   "outputs": [],
   "source": [
    "for _ in range(10000): \n",
    "    weights = np.random.random(len(stocks)) \n",
    "    weights /= np.sum(weights) \n",
    "\n",
    "    returns = np.dot(weights, annual_ret) \n",
    "    risk = np.sqrt(np.dot(weights.T, np.dot(annual_cov, weights))) \n",
    "\n",
    "    port_ret.append(returns) \n",
    "    port_risk.append(risk) \n",
    "    port_weights.append(weights)\n",
    "    sharpe_ratio.append(returns/risk)  # ①"
   ]
  },
  {
   "cell_type": "code",
   "execution_count": null,
   "metadata": {},
   "outputs": [],
   "source": [
    "portfolio = {'Returns': port_ret, 'Risk': port_risk, 'Sharpe': sharpe_ratio}\n",
    "for i, s in enumerate(stocks): \n",
    "    portfolio[s] = [weight[i] for weight in port_weights] \n",
    "df = pd.DataFrame(portfolio) \n",
    "df = df[['Returns', 'Risk', 'Sharpe'] + [s for s in stocks]]  # ② "
   ]
  },
  {
   "cell_type": "code",
   "execution_count": null,
   "metadata": {},
   "outputs": [],
   "source": [
    "max_sharpe = df.loc[df['Sharpe'] == df['Sharpe'].max()]  # ③\n",
    "min_risk = df.loc[df['Risk'] == df['Risk'].min()]  # ④"
   ]
  },
  {
   "cell_type": "code",
   "execution_count": null,
   "metadata": {},
   "outputs": [],
   "source": [
    "max_sharpe # 최대수익 내는 조합"
   ]
  },
  {
   "cell_type": "code",
   "execution_count": null,
   "metadata": {},
   "outputs": [],
   "source": [
    "min_risk # 최소손실 내는 조합"
   ]
  },
  {
   "cell_type": "code",
   "execution_count": null,
   "metadata": {},
   "outputs": [],
   "source": [
    "df.plot.scatter(x='Risk', y='Returns', c='Sharpe', cmap='viridis',\n",
    "    edgecolors='k', figsize=(11,7), grid=True)  # ⑤\n",
    "plt.scatter(x=max_sharpe['Risk'], y=max_sharpe['Returns'], c='r', \n",
    "    marker='*', s=300)  # ⑥\n",
    "plt.scatter(x=min_risk['Risk'], y=min_risk['Returns'], c='r', \n",
    "    marker='X', s=200)  # ⑦\n",
    "plt.title('Portfolio Optimization') \n",
    "plt.xlabel('Risk') \n",
    "plt.ylabel('Expected Returns') \n",
    "plt.show()"
   ]
  },
  {
   "cell_type": "code",
   "execution_count": null,
   "metadata": {},
   "outputs": [],
   "source": [
    "slack = Slacker('Masking Token')\n",
    "now = time.localtime()\n",
    "slack.chat.post_message('#korean-auto-trader-bot',\n",
    "                        \"%04d/%02d/%02d %02d:%02d:%02d\" % (now.tm_year, now.tm_mon, now.tm_mday, now.tm_hour, now.tm_min, now.tm_sec) + '\\n optimal Portfolio를 완료되었습니다!\\n'\n",
    "                        + \"%04d/%02d/%02d\" % (now.tm_year, now.tm_mon, now.tm_mday) + '일 데이터 기준 test 포트폴리오(금일 스터디 내용 중) \\n'\n",
    "                        + '최대수익 조합일 때 수익은 ' + str(max_sharpe['Returns'].values*100) + '% 입니다 \\n'\n",
    "                        + '이 때 변동성은 '+ str(max_sharpe['Risk'].values*100) + '% 입니다 \\n'\n",
    "                        + '최소손실 조합일 때 수익은 ' + str(min_risk['Returns'].values*100) + '% 입니다 \\n'\n",
    "                        + '이 때 변동성은 '+ str(min_risk['Risk'].values*100) + '% 입니다 \\n'\n",
    "                        ,as_user=True)"
   ]
  },
  {
   "cell_type": "code",
   "execution_count": null,
   "metadata": {},
   "outputs": [],
   "source": []
  }
 ],
 "metadata": {
  "kernelspec": {
   "display_name": "Python 3",
   "language": "python",
   "name": "python3"
  },
  "language_info": {
   "codemirror_mode": {
    "name": "ipython",
    "version": 3
   },
   "file_extension": ".py",
   "mimetype": "text/x-python",
   "name": "python",
   "nbconvert_exporter": "python",
   "pygments_lexer": "ipython3",
   "version": "3.7.3"
  },
  "varInspector": {
   "cols": {
    "lenName": 16,
    "lenType": 16,
    "lenVar": 40
   },
   "kernels_config": {
    "python": {
     "delete_cmd_postfix": "",
     "delete_cmd_prefix": "del ",
     "library": "var_list.py",
     "varRefreshCmd": "print(var_dic_list())"
    },
    "r": {
     "delete_cmd_postfix": ") ",
     "delete_cmd_prefix": "rm(",
     "library": "var_list.r",
     "varRefreshCmd": "cat(var_dic_list()) "
    }
   },
   "types_to_exclude": [
    "module",
    "function",
    "builtin_function_or_method",
    "instance",
    "_Feature"
   ],
   "window_display": false
  }
 },
 "nbformat": 4,
 "nbformat_minor": 2
}
