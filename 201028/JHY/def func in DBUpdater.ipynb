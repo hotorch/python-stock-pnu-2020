{
 "cells": [
  {
   "cell_type": "code",
   "execution_count": 1,
   "metadata": {},
   "outputs": [],
   "source": [
    "import pandas as pd"
   ]
  },
  {
   "cell_type": "code",
   "execution_count": 2,
   "metadata": {},
   "outputs": [],
   "source": [
    "url = 'http://kind.krx.co.kr/corpgeneral/corpList.do?method=download&searchType=13'\n",
    "krx = pd.read_html(url, header=0)[0]\n",
    "\n",
    "# add conditions \n",
    "# krx_tmp = krx_tmp[~krx_tmp['업종'].str.contains('건설')]\n",
    "# krx_tmp.reset_index(drop = True, inplace = True)\n",
    "\n",
    "krx = krx[['종목코드', '회사명']]\n",
    "krx = krx.rename(columns={'종목코드': 'code', '회사명': 'company'})\n",
    "# krx.rename(columns={'종목코드': 'code', '회사명': 'company'}, inplace = True)\n",
    "krx.code = krx.code.map('{:06d}'.format)\n",
    "# krx['code']=krx['code'].map('{:06d}'.format)"
   ]
  },
  {
   "cell_type": "code",
   "execution_count": 31,
   "metadata": {},
   "outputs": [],
   "source": [
    "import pymysql\n",
    "\n",
    "connection = pymysql.connect(host='localhost',\n",
    "                             port=3307,\n",
    "                             db='INVESTAR', \n",
    "                             user='root',\n",
    "                             passwd='!@#$!#@#$',\n",
    "                             autocommit=True) "
   ]
  },
  {
   "cell_type": "code",
   "execution_count": 33,
   "metadata": {},
   "outputs": [
    {
     "data": {
      "text/html": [
       "<div>\n",
       "<style scoped>\n",
       "    .dataframe tbody tr th:only-of-type {\n",
       "        vertical-align: middle;\n",
       "    }\n",
       "\n",
       "    .dataframe tbody tr th {\n",
       "        vertical-align: top;\n",
       "    }\n",
       "\n",
       "    .dataframe thead th {\n",
       "        text-align: right;\n",
       "    }\n",
       "</style>\n",
       "<table border=\"1\" class=\"dataframe\">\n",
       "  <thead>\n",
       "    <tr style=\"text-align: right;\">\n",
       "      <th></th>\n",
       "      <th>code</th>\n",
       "      <th>company</th>\n",
       "      <th>last_update</th>\n",
       "    </tr>\n",
       "  </thead>\n",
       "  <tbody>\n",
       "    <tr>\n",
       "      <th>0</th>\n",
       "      <td>000020</td>\n",
       "      <td>동화약품</td>\n",
       "      <td>2020-10-26</td>\n",
       "    </tr>\n",
       "    <tr>\n",
       "      <th>1</th>\n",
       "      <td>000040</td>\n",
       "      <td>KR모터스</td>\n",
       "      <td>2020-10-26</td>\n",
       "    </tr>\n",
       "    <tr>\n",
       "      <th>2</th>\n",
       "      <td>000050</td>\n",
       "      <td>경방</td>\n",
       "      <td>2020-10-26</td>\n",
       "    </tr>\n",
       "    <tr>\n",
       "      <th>3</th>\n",
       "      <td>000060</td>\n",
       "      <td>메리츠화재</td>\n",
       "      <td>2020-10-26</td>\n",
       "    </tr>\n",
       "    <tr>\n",
       "      <th>4</th>\n",
       "      <td>000070</td>\n",
       "      <td>삼양홀딩스</td>\n",
       "      <td>2020-10-26</td>\n",
       "    </tr>\n",
       "  </tbody>\n",
       "</table>\n",
       "</div>"
      ],
      "text/plain": [
       "     code company last_update\n",
       "0  000020    동화약품  2020-10-26\n",
       "1  000040   KR모터스  2020-10-26\n",
       "2  000050      경방  2020-10-26\n",
       "3  000060   메리츠화재  2020-10-26\n",
       "4  000070   삼양홀딩스  2020-10-26"
      ]
     },
     "execution_count": 33,
     "metadata": {},
     "output_type": "execute_result"
    }
   ],
   "source": [
    "sql = \"SELECT * FROM company_info\"\n",
    "df = pd.read_sql(sql, connection)\n",
    "df.head()"
   ]
  },
  {
   "cell_type": "code",
   "execution_count": 36,
   "metadata": {},
   "outputs": [],
   "source": [
    "from bs4 import BeautifulSoup\n",
    "import urllib, pymysql, calendar, time, json\n",
    "from urllib.request import urlopen\n",
    "from datetime import datetime\n",
    "from threading import Timer"
   ]
  },
  {
   "cell_type": "code",
   "execution_count": 38,
   "metadata": {},
   "outputs": [],
   "source": [
    "def read_krx_code(self):\n",
    "        \"\"\"KRX로부터 상장기업 목록 파일을 읽어와서 데이터프레임으로 반환\"\"\"\n",
    "        url = 'http://kind.krx.co.kr/corpgeneral/corpList.do?method='\\\n",
    "            'download&searchType=13'\n",
    "        krx = pd.read_html(url, header=0)[0]\n",
    "        krx = krx[['종목코드', '회사명']]\n",
    "        krx = krx.rename(columns={'종목코드': 'code', '회사명': 'company'})\n",
    "        krx.code = krx.code.map('{:06d}'.format)\n",
    "        return krx"
   ]
  },
  {
   "cell_type": "code",
   "execution_count": 46,
   "metadata": {
    "code_folding": []
   },
   "outputs": [],
   "source": [
    "codes = dict()\n",
    "# curs = connection.cursor() \n",
    "with connection.cursor() as curs:\n",
    "    sql = \"SELECT max(last_update) FROM company_info\"\n",
    "    curs.execute(sql)\n",
    "    rs = curs.fetchone()\n",
    "    today = datetime.today().strftime('%Y-%m-%d')\n",
    "    if rs[0] == None or rs[0].strftime('%Y-%m-%d') < today:\n",
    "        # krx = read_krx_code()\n",
    "        for idx in range(len(krx)):\n",
    "            code = krx.code.values[idx]\n",
    "            company = krx.company.values[idx]                \n",
    "            sql = f\"REPLACE INTO company_info (code, company, last\"\\\n",
    "                f\"_update) VALUES ('{code}', '{company}', '{today}')\"\n",
    "            curs.execute(sql)\n",
    "            # key : code, value : company\n",
    "            codes[code] = company\n",
    "            tmnow = datetime.now().strftime('%Y-%m-%d %H:%M')\n",
    "            print(f\"[{tmnow}] #{idx+1:04d} REPLACE INTO company_info \"\\\n",
    "                f\"VALUES ({code}, {company}, {today})\")\n",
    "        connection.commit()\n",
    "        print('')     "
   ]
  },
  {
   "cell_type": "markdown",
   "metadata": {},
   "source": [
    "## 5.3.7"
   ]
  },
  {
   "cell_type": "code",
   "execution_count": null,
   "metadata": {},
   "outputs": [],
   "source": [
    "def read_naver(self, code, company, pages_to_fetch):\n",
    "    \"\"\"네이버에서 주식 시세를 읽어서 데이터프레임으로 반환\"\"\"\n",
    "    try:\n",
    "        url = f\"http://finance.naver.com/item/sise_day.nhn?code={code}\"\n",
    "        with urlopen(url) as doc:\n",
    "            if doc is None:\n",
    "                return None\n",
    "            html = BeautifulSoup(doc, \"lxml\")\n",
    "            pgrr = html.find(\"td\", class_=\"pgRR\")\n",
    "            if pgrr is None:\n",
    "                return None\n",
    "            s = str(pgrr.a[\"href\"]).split('=')\n",
    "            lastpage = s[-1] \n",
    "        df = pd.DataFrame()\n",
    "        pages = min(int(lastpage), pages_to_fetch)\n",
    "        for page in range(1, pages + 1):\n",
    "            pg_url = '{}&page={}'.format(url, page)\n",
    "            df = df.append(pd.read_html(pg_url, header=0)[0])\n",
    "            tmnow = datetime.now().strftime('%Y-%m-%d %H:%M')\n",
    "            print('[{}] {} ({}) : {:04d}/{:04d} pages are downloading...'.\n",
    "                format(tmnow, company, code, page, pages), end=\"\\r\")\n",
    "        df = df.rename(columns={'날짜':'date','종가':'close','전일비':'diff'\n",
    "            ,'시가':'open','고가':'high','저가':'low','거래량':'volume'})\n",
    "        df['date'] = df['date'].replace('.', '-')\n",
    "        df = df.dropna()\n",
    "        df[['close', 'diff', 'open', 'high', 'low', 'volume']] = df[['close',\n",
    "            'diff', 'open', 'high', 'low', 'volume']].astype(int)\n",
    "        df = df[['date', 'open', 'high', 'low', 'close', 'diff', 'volume']]\n",
    "    except Exception as e:\n",
    "        print('Exception occured :', str(e))\n",
    "        return None\n",
    "        \n",
    "    return df"
   ]
  },
  {
   "cell_type": "code",
   "execution_count": 67,
   "metadata": {},
   "outputs": [],
   "source": [
    "url = f\"http://finance.naver.com/item/sise_day.nhn?code=000020\"\n",
    "with urlopen(url) as doc:\n",
    "    \n",
    "    html = BeautifulSoup(doc, \"lxml\")\n",
    "    pgrr = html.find(\"td\", class_=\"pgRR\")\n",
    "    s = str(pgrr.a[\"href\"]).split('=')\n",
    "    lastpage = s[-1] \n",
    "    "
   ]
  },
  {
   "cell_type": "code",
   "execution_count": 86,
   "metadata": {},
   "outputs": [],
   "source": [
    "code = '000020'\n",
    "company = '동화약품'\n",
    "pages_to_fetch = 20"
   ]
  },
  {
   "cell_type": "code",
   "execution_count": 87,
   "metadata": {},
   "outputs": [
    {
     "name": "stdout",
     "output_type": "stream",
     "text": [
      "Wall time: 1.5 s8] 동화약품 (000020) : 0020/0020 pages are downloading...\n"
     ]
    }
   ],
   "source": [
    "%%time\n",
    "df = pd.DataFrame()\n",
    "pages = min(int(lastpage), pages_to_fetch)\n",
    "for page in range(1, pages + 1):\n",
    "    pg_url = '{}&page={}'.format(url, page)\n",
    "    df = df.append(pd.read_html(pg_url, header=0)[0], ignore_index = True)\n",
    "    tmnow = datetime.now().strftime('%Y-%m-%d %H:%M')\n",
    "    print('[{}] {} ({}) : {:04d}/{:04d} pages are downloading...'.\n",
    "        format(tmnow, company, code, page, pages), end=\"\\r\")\n",
    "df = df.rename(columns={'날짜':'date','종가':'close','전일비':'diff'\n",
    "    ,'시가':'open','고가':'high','저가':'low','거래량':'volume'})\n",
    "df['date'] = df['date'].replace('.', '-')\n",
    "df = df.dropna()\n",
    "df[['close', 'diff', 'open', 'high', 'low', 'volume']] = df[['close',\n",
    "    'diff', 'open', 'high', 'low', 'volume']].astype(int)\n",
    "df = df[['date', 'open', 'high', 'low', 'close', 'diff', 'volume']]"
   ]
  },
  {
   "cell_type": "code",
   "execution_count": null,
   "metadata": {},
   "outputs": [],
   "source": []
  }
 ],
 "metadata": {
  "kernelspec": {
   "display_name": "Python 3",
   "language": "python",
   "name": "python3"
  },
  "language_info": {
   "codemirror_mode": {
    "name": "ipython",
    "version": 3
   },
   "file_extension": ".py",
   "mimetype": "text/x-python",
   "name": "python",
   "nbconvert_exporter": "python",
   "pygments_lexer": "ipython3",
   "version": "3.7.3"
  },
  "varInspector": {
   "cols": {
    "lenName": 16,
    "lenType": 16,
    "lenVar": 40
   },
   "kernels_config": {
    "python": {
     "delete_cmd_postfix": "",
     "delete_cmd_prefix": "del ",
     "library": "var_list.py",
     "varRefreshCmd": "print(var_dic_list())"
    },
    "r": {
     "delete_cmd_postfix": ") ",
     "delete_cmd_prefix": "rm(",
     "library": "var_list.r",
     "varRefreshCmd": "cat(var_dic_list()) "
    }
   },
   "types_to_exclude": [
    "module",
    "function",
    "builtin_function_or_method",
    "instance",
    "_Feature"
   ],
   "window_display": false
  }
 },
 "nbformat": 4,
 "nbformat_minor": 2
}
