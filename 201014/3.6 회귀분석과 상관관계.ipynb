{
 "cells": [
  {
   "cell_type": "markdown",
   "metadata": {},
   "source": [
    "# 1. KOSPI, 다우존스 지수 비교"
   ]
  },
  {
   "cell_type": "code",
   "execution_count": null,
   "metadata": {},
   "outputs": [],
   "source": [
    "pip install pandas_datareader\n",
    "pip install yfinance\n",
    "pip install matplotlib"
   ]
  },
  {
   "cell_type": "code",
   "execution_count": 1,
   "metadata": {},
   "outputs": [],
   "source": [
    "from pandas_datareader import data as pdr #웹 상의 데이터를 DataFrame 객체로 만드는 기능\n",
    "import yfinance as yf\n",
    "yf.pdr_override() # 야후에서 데이터를 획득하는 방식이 크롤링으로 변경됨"
   ]
  },
  {
   "cell_type": "code",
   "execution_count": 2,
   "metadata": {},
   "outputs": [
    {
     "name": "stdout",
     "output_type": "stream",
     "text": [
      "[*********************100%***********************]  1 of 1 completed\n",
      "[*********************100%***********************]  1 of 1 completed\n"
     ]
    }
   ],
   "source": [
    "dow = pdr.get_data_yahoo(\"^DJI\", '2000-01-04')\n",
    "kospi = pdr.get_data_yahoo(\"^KS11\", '2000-01-04')"
   ]
  },
  {
   "cell_type": "code",
   "execution_count": 3,
   "metadata": {},
   "outputs": [
    {
     "name": "stdout",
     "output_type": "stream",
     "text": [
      "[*********************100%***********************]  1 of 1 completed\n"
     ]
    },
    {
     "data": {
      "text/html": [
       "<div>\n",
       "<style scoped>\n",
       "    .dataframe tbody tr th:only-of-type {\n",
       "        vertical-align: middle;\n",
       "    }\n",
       "\n",
       "    .dataframe tbody tr th {\n",
       "        vertical-align: top;\n",
       "    }\n",
       "\n",
       "    .dataframe thead th {\n",
       "        text-align: right;\n",
       "    }\n",
       "</style>\n",
       "<table border=\"1\" class=\"dataframe\">\n",
       "  <thead>\n",
       "    <tr style=\"text-align: right;\">\n",
       "      <th></th>\n",
       "      <th>Open</th>\n",
       "      <th>High</th>\n",
       "      <th>Low</th>\n",
       "      <th>Close</th>\n",
       "      <th>Adj Close</th>\n",
       "      <th>Volume</th>\n",
       "    </tr>\n",
       "    <tr>\n",
       "      <th>Date</th>\n",
       "      <th></th>\n",
       "      <th></th>\n",
       "      <th></th>\n",
       "      <th></th>\n",
       "      <th></th>\n",
       "      <th></th>\n",
       "    </tr>\n",
       "  </thead>\n",
       "  <tbody>\n",
       "    <tr>\n",
       "      <th>2017-01-02</th>\n",
       "      <td>77400.0</td>\n",
       "      <td>77600.0</td>\n",
       "      <td>76600.0</td>\n",
       "      <td>76700.0</td>\n",
       "      <td>76609.906250</td>\n",
       "      <td>143140</td>\n",
       "    </tr>\n",
       "    <tr>\n",
       "      <th>2017-01-03</th>\n",
       "      <td>77200.0</td>\n",
       "      <td>80000.0</td>\n",
       "      <td>77000.0</td>\n",
       "      <td>80000.0</td>\n",
       "      <td>79906.031250</td>\n",
       "      <td>445180</td>\n",
       "    </tr>\n",
       "    <tr>\n",
       "      <th>2017-01-04</th>\n",
       "      <td>80400.0</td>\n",
       "      <td>85100.0</td>\n",
       "      <td>80300.0</td>\n",
       "      <td>84300.0</td>\n",
       "      <td>84200.976562</td>\n",
       "      <td>1224395</td>\n",
       "    </tr>\n",
       "    <tr>\n",
       "      <th>2017-01-05</th>\n",
       "      <td>85000.0</td>\n",
       "      <td>86000.0</td>\n",
       "      <td>84000.0</td>\n",
       "      <td>84000.0</td>\n",
       "      <td>83901.328125</td>\n",
       "      <td>611713</td>\n",
       "    </tr>\n",
       "    <tr>\n",
       "      <th>2017-01-06</th>\n",
       "      <td>84400.0</td>\n",
       "      <td>84500.0</td>\n",
       "      <td>82200.0</td>\n",
       "      <td>83700.0</td>\n",
       "      <td>83601.679688</td>\n",
       "      <td>410880</td>\n",
       "    </tr>\n",
       "  </tbody>\n",
       "</table>\n",
       "</div>"
      ],
      "text/plain": [
       "               Open     High      Low    Close     Adj Close   Volume\n",
       "Date                                                                 \n",
       "2017-01-02  77400.0  77600.0  76600.0  76700.0  76609.906250   143140\n",
       "2017-01-03  77200.0  80000.0  77000.0  80000.0  79906.031250   445180\n",
       "2017-01-04  80400.0  85100.0  80300.0  84300.0  84200.976562  1224395\n",
       "2017-01-05  85000.0  86000.0  84000.0  84000.0  83901.328125   611713\n",
       "2017-01-06  84400.0  84500.0  82200.0  83700.0  83601.679688   410880"
      ]
     },
     "execution_count": 3,
     "metadata": {},
     "output_type": "execute_result"
    }
   ],
   "source": [
    "kakao = pdr.get_data_yahoo('035720.KS', \"2017-01-01\")\n",
    "kakao.head()"
   ]
  },
  {
   "cell_type": "code",
   "execution_count": 4,
   "metadata": {},
   "outputs": [
    {
     "data": {
      "text/html": [
       "<div>\n",
       "<style scoped>\n",
       "    .dataframe tbody tr th:only-of-type {\n",
       "        vertical-align: middle;\n",
       "    }\n",
       "\n",
       "    .dataframe tbody tr th {\n",
       "        vertical-align: top;\n",
       "    }\n",
       "\n",
       "    .dataframe thead th {\n",
       "        text-align: right;\n",
       "    }\n",
       "</style>\n",
       "<table border=\"1\" class=\"dataframe\">\n",
       "  <thead>\n",
       "    <tr style=\"text-align: right;\">\n",
       "      <th></th>\n",
       "      <th>Open</th>\n",
       "      <th>High</th>\n",
       "      <th>Low</th>\n",
       "      <th>Close</th>\n",
       "      <th>Adj Close</th>\n",
       "      <th>Volume</th>\n",
       "    </tr>\n",
       "    <tr>\n",
       "      <th>Date</th>\n",
       "      <th></th>\n",
       "      <th></th>\n",
       "      <th></th>\n",
       "      <th></th>\n",
       "      <th></th>\n",
       "      <th></th>\n",
       "    </tr>\n",
       "  </thead>\n",
       "  <tbody>\n",
       "    <tr>\n",
       "      <th>2000-01-03</th>\n",
       "      <td>11501.849609</td>\n",
       "      <td>11522.009766</td>\n",
       "      <td>11305.690430</td>\n",
       "      <td>11357.509766</td>\n",
       "      <td>11357.509766</td>\n",
       "      <td>169750000</td>\n",
       "    </tr>\n",
       "    <tr>\n",
       "      <th>2000-01-04</th>\n",
       "      <td>11349.750000</td>\n",
       "      <td>11350.059570</td>\n",
       "      <td>10986.450195</td>\n",
       "      <td>10997.929688</td>\n",
       "      <td>10997.929688</td>\n",
       "      <td>178420000</td>\n",
       "    </tr>\n",
       "    <tr>\n",
       "      <th>2000-01-05</th>\n",
       "      <td>10989.370117</td>\n",
       "      <td>11215.099609</td>\n",
       "      <td>10938.669922</td>\n",
       "      <td>11122.650391</td>\n",
       "      <td>11122.650391</td>\n",
       "      <td>203190000</td>\n",
       "    </tr>\n",
       "    <tr>\n",
       "      <th>2000-01-06</th>\n",
       "      <td>11113.370117</td>\n",
       "      <td>11313.450195</td>\n",
       "      <td>11098.450195</td>\n",
       "      <td>11253.259766</td>\n",
       "      <td>11253.259766</td>\n",
       "      <td>176550000</td>\n",
       "    </tr>\n",
       "    <tr>\n",
       "      <th>2000-01-07</th>\n",
       "      <td>11247.059570</td>\n",
       "      <td>11528.139648</td>\n",
       "      <td>11239.919922</td>\n",
       "      <td>11522.559570</td>\n",
       "      <td>11522.559570</td>\n",
       "      <td>184900000</td>\n",
       "    </tr>\n",
       "    <tr>\n",
       "      <th>...</th>\n",
       "      <td>...</td>\n",
       "      <td>...</td>\n",
       "      <td>...</td>\n",
       "      <td>...</td>\n",
       "      <td>...</td>\n",
       "      <td>...</td>\n",
       "    </tr>\n",
       "    <tr>\n",
       "      <th>2020-10-07</th>\n",
       "      <td>27971.359375</td>\n",
       "      <td>28369.660156</td>\n",
       "      <td>27971.359375</td>\n",
       "      <td>28303.460938</td>\n",
       "      <td>28303.460938</td>\n",
       "      <td>328750000</td>\n",
       "    </tr>\n",
       "    <tr>\n",
       "      <th>2020-10-08</th>\n",
       "      <td>28348.859375</td>\n",
       "      <td>28459.130859</td>\n",
       "      <td>28265.560547</td>\n",
       "      <td>28425.509766</td>\n",
       "      <td>28425.509766</td>\n",
       "      <td>314750000</td>\n",
       "    </tr>\n",
       "    <tr>\n",
       "      <th>2020-10-09</th>\n",
       "      <td>28533.609375</td>\n",
       "      <td>28676.289062</td>\n",
       "      <td>28440.630859</td>\n",
       "      <td>28586.900391</td>\n",
       "      <td>28586.900391</td>\n",
       "      <td>324050000</td>\n",
       "    </tr>\n",
       "    <tr>\n",
       "      <th>2020-10-12</th>\n",
       "      <td>28671.119141</td>\n",
       "      <td>28957.900391</td>\n",
       "      <td>28659.669922</td>\n",
       "      <td>28837.519531</td>\n",
       "      <td>28837.519531</td>\n",
       "      <td>493680000</td>\n",
       "    </tr>\n",
       "    <tr>\n",
       "      <th>2020-10-13</th>\n",
       "      <td>28764.949219</td>\n",
       "      <td>28808.839844</td>\n",
       "      <td>28604.349609</td>\n",
       "      <td>28679.810547</td>\n",
       "      <td>28679.810547</td>\n",
       "      <td>526110000</td>\n",
       "    </tr>\n",
       "  </tbody>\n",
       "</table>\n",
       "<p>5229 rows × 6 columns</p>\n",
       "</div>"
      ],
      "text/plain": [
       "                    Open          High           Low         Close  \\\n",
       "Date                                                                 \n",
       "2000-01-03  11501.849609  11522.009766  11305.690430  11357.509766   \n",
       "2000-01-04  11349.750000  11350.059570  10986.450195  10997.929688   \n",
       "2000-01-05  10989.370117  11215.099609  10938.669922  11122.650391   \n",
       "2000-01-06  11113.370117  11313.450195  11098.450195  11253.259766   \n",
       "2000-01-07  11247.059570  11528.139648  11239.919922  11522.559570   \n",
       "...                  ...           ...           ...           ...   \n",
       "2020-10-07  27971.359375  28369.660156  27971.359375  28303.460938   \n",
       "2020-10-08  28348.859375  28459.130859  28265.560547  28425.509766   \n",
       "2020-10-09  28533.609375  28676.289062  28440.630859  28586.900391   \n",
       "2020-10-12  28671.119141  28957.900391  28659.669922  28837.519531   \n",
       "2020-10-13  28764.949219  28808.839844  28604.349609  28679.810547   \n",
       "\n",
       "               Adj Close     Volume  \n",
       "Date                                 \n",
       "2000-01-03  11357.509766  169750000  \n",
       "2000-01-04  10997.929688  178420000  \n",
       "2000-01-05  11122.650391  203190000  \n",
       "2000-01-06  11253.259766  176550000  \n",
       "2000-01-07  11522.559570  184900000  \n",
       "...                  ...        ...  \n",
       "2020-10-07  28303.460938  328750000  \n",
       "2020-10-08  28425.509766  314750000  \n",
       "2020-10-09  28586.900391  324050000  \n",
       "2020-10-12  28837.519531  493680000  \n",
       "2020-10-13  28679.810547  526110000  \n",
       "\n",
       "[5229 rows x 6 columns]"
      ]
     },
     "execution_count": 4,
     "metadata": {},
     "output_type": "execute_result"
    }
   ],
   "source": [
    "dow"
   ]
  },
  {
   "cell_type": "code",
   "execution_count": 5,
   "metadata": {},
   "outputs": [
    {
     "name": "stdout",
     "output_type": "stream",
     "text": [
      "<class 'pandas.core.frame.DataFrame'>\n"
     ]
    }
   ],
   "source": [
    "print(type(dow))"
   ]
  },
  {
   "cell_type": "code",
   "execution_count": 6,
   "metadata": {},
   "outputs": [
    {
     "name": "stdout",
     "output_type": "stream",
     "text": [
      "DatetimeIndex(['2000-01-03', '2000-01-04', '2000-01-05', '2000-01-06',\n",
      "               '2000-01-07', '2000-01-10', '2000-01-11', '2000-01-12',\n",
      "               '2000-01-13', '2000-01-14',\n",
      "               ...\n",
      "               '2020-09-30', '2020-10-01', '2020-10-02', '2020-10-05',\n",
      "               '2020-10-06', '2020-10-07', '2020-10-08', '2020-10-09',\n",
      "               '2020-10-12', '2020-10-13'],\n",
      "              dtype='datetime64[ns]', name='Date', length=5229, freq=None)\n",
      "Date\n",
      "2000-01-03    11357.509766\n",
      "2000-01-04    10997.929688\n",
      "2000-01-05    11122.650391\n",
      "2000-01-06    11253.259766\n",
      "2000-01-07    11522.559570\n",
      "                  ...     \n",
      "2020-10-07    28303.460938\n",
      "2020-10-08    28425.509766\n",
      "2020-10-09    28586.900391\n",
      "2020-10-12    28837.519531\n",
      "2020-10-13    28679.810547\n",
      "Name: Close, Length: 5229, dtype: float64\n"
     ]
    }
   ],
   "source": [
    "print(dow.index)\n",
    "print(dow.Close)"
   ]
  },
  {
   "cell_type": "code",
   "execution_count": 7,
   "metadata": {},
   "outputs": [
    {
     "data": {
      "image/png": "[encoded data removed]",
      "text/plain": [
       "<Figure size 648x360 with 1 Axes>"
      ]
     },
     "metadata": {
      "needs_background": "light"
     },
     "output_type": "display_data"
    }
   ],
   "source": [
    "import matplotlib.pyplot as plt\n",
    "plt.figure(figsize=(9, 5))\n",
    "plt.plot(dow.index, dow.Close, 'r--', label='Dow Jones Industrial')\n",
    "plt.grid(True)\n",
    "plt.legend(loc='best')\n",
    "plt.show()"
   ]
  },
  {
   "cell_type": "code",
   "execution_count": 8,
   "metadata": {},
   "outputs": [
    {
     "data": {
      "image/png": "[encoded data removed]",
      "text/plain": [
       "<Figure size 648x360 with 1 Axes>"
      ]
     },
     "metadata": {
      "needs_background": "light"
     },
     "output_type": "display_data"
    }
   ],
   "source": [
    "import matplotlib.pyplot as plt\n",
    "plt.figure(figsize=(9, 5))\n",
    "plt.plot(kospi.index, kospi.Close, 'b', label='KOSPI')\n",
    "plt.grid(True)\n",
    "plt.legend(loc='best')\n",
    "plt.show()"
   ]
  },
  {
   "cell_type": "code",
   "execution_count": 9,
   "metadata": {},
   "outputs": [
    {
     "data": {
      "image/png": "[encoded data removed]",
      "text/plain": [
       "<Figure size 648x360 with 1 Axes>"
      ]
     },
     "metadata": {
      "needs_background": "light"
     },
     "output_type": "display_data"
    }
   ],
   "source": [
    "import matplotlib.pyplot as plt\n",
    "plt.figure(figsize=(9, 5))\n",
    "plt.plot(dow.index, dow.Close, 'r--', label='Dow Jones Industrial')\n",
    "plt.plot(kospi.index, kospi.Close, 'b', label='KOSPI')\n",
    "plt.grid(True)\n",
    "plt.legend(loc='best')\n",
    "plt.show()"
   ]
  },
  {
   "cell_type": "markdown",
   "metadata": {},
   "source": [
    "# 지수화비교"
   ]
  },
  {
   "cell_type": "code",
   "execution_count": 10,
   "metadata": {},
   "outputs": [
    {
     "data": {
      "image/png": "[encoded data removed]",
      "text/plain": [
       "<Figure size 648x360 with 1 Axes>"
      ]
     },
     "metadata": {
      "needs_background": "light"
     },
     "output_type": "display_data"
    }
   ],
   "source": [
    "d = (dow.Close / dow.Close.loc['2000-01-04']) * 100\n",
    "k = (kospi.Close / kospi.Close.loc['2000-01-04']) * 100\n",
    "\n",
    "import matplotlib.pyplot as plt\n",
    "plt.figure(figsize=(9, 5))\n",
    "plt.plot(d.index, d, 'r--', label='Dow Jones Industrial')\n",
    "plt.plot(k.index, k, 'b', label='KOSPI')\n",
    "plt.grid(True)\n",
    "plt.legend(loc='best')\n",
    "plt.show()"
   ]
  },
  {
   "cell_type": "markdown",
   "metadata": {},
   "source": [
    "# 산점도 분석"
   ]
  },
  {
   "cell_type": "code",
   "execution_count": 11,
   "metadata": {},
   "outputs": [
    {
     "ename": "ValueError",
     "evalue": "x and y must be the same size",
     "output_type": "error",
     "traceback": [
      "\u001b[1;31m---------------------------------------------------------------------------\u001b[0m",
      "\u001b[1;31mValueError\u001b[0m                                Traceback (most recent call last)",
      "\u001b[1;32m<ipython-input-11-89569fd5e488>\u001b[0m in \u001b[0;36m<module>\u001b[1;34m\u001b[0m\n\u001b[1;32m----> 1\u001b[1;33m \u001b[0mplt\u001b[0m\u001b[1;33m.\u001b[0m\u001b[0mscatter\u001b[0m\u001b[1;33m(\u001b[0m\u001b[0mdow\u001b[0m\u001b[1;33m,\u001b[0m \u001b[0mkospi\u001b[0m\u001b[1;33m,\u001b[0m \u001b[0mmarker\u001b[0m\u001b[1;33m=\u001b[0m\u001b[1;34m'.'\u001b[0m\u001b[1;33m)\u001b[0m\u001b[1;33m\u001b[0m\u001b[1;33m\u001b[0m\u001b[0m\n\u001b[0m",
      "\u001b[1;32m~\\anaconda3\\lib\\site-packages\\matplotlib\\pyplot.py\u001b[0m in \u001b[0;36mscatter\u001b[1;34m(x, y, s, c, marker, cmap, norm, vmin, vmax, alpha, linewidths, verts, edgecolors, plotnonfinite, data, **kwargs)\u001b[0m\n\u001b[0;32m   2846\u001b[0m         \u001b[0mverts\u001b[0m\u001b[1;33m=\u001b[0m\u001b[0mverts\u001b[0m\u001b[1;33m,\u001b[0m \u001b[0medgecolors\u001b[0m\u001b[1;33m=\u001b[0m\u001b[0medgecolors\u001b[0m\u001b[1;33m,\u001b[0m\u001b[1;33m\u001b[0m\u001b[1;33m\u001b[0m\u001b[0m\n\u001b[0;32m   2847\u001b[0m         plotnonfinite=plotnonfinite, **({\"data\": data} if data is not\n\u001b[1;32m-> 2848\u001b[1;33m         None else {}), **kwargs)\n\u001b[0m\u001b[0;32m   2849\u001b[0m     \u001b[0msci\u001b[0m\u001b[1;33m(\u001b[0m\u001b[0m__ret\u001b[0m\u001b[1;33m)\u001b[0m\u001b[1;33m\u001b[0m\u001b[1;33m\u001b[0m\u001b[0m\n\u001b[0;32m   2850\u001b[0m     \u001b[1;32mreturn\u001b[0m \u001b[0m__ret\u001b[0m\u001b[1;33m\u001b[0m\u001b[1;33m\u001b[0m\u001b[0m\n",
      "\u001b[1;32m~\\anaconda3\\lib\\site-packages\\matplotlib\\__init__.py\u001b[0m in \u001b[0;36minner\u001b[1;34m(ax, data, *args, **kwargs)\u001b[0m\n\u001b[0;32m   1597\u001b[0m     \u001b[1;32mdef\u001b[0m \u001b[0minner\u001b[0m\u001b[1;33m(\u001b[0m\u001b[0max\u001b[0m\u001b[1;33m,\u001b[0m \u001b[1;33m*\u001b[0m\u001b[0margs\u001b[0m\u001b[1;33m,\u001b[0m \u001b[0mdata\u001b[0m\u001b[1;33m=\u001b[0m\u001b[1;32mNone\u001b[0m\u001b[1;33m,\u001b[0m \u001b[1;33m**\u001b[0m\u001b[0mkwargs\u001b[0m\u001b[1;33m)\u001b[0m\u001b[1;33m:\u001b[0m\u001b[1;33m\u001b[0m\u001b[1;33m\u001b[0m\u001b[0m\n\u001b[0;32m   1598\u001b[0m         \u001b[1;32mif\u001b[0m \u001b[0mdata\u001b[0m \u001b[1;32mis\u001b[0m \u001b[1;32mNone\u001b[0m\u001b[1;33m:\u001b[0m\u001b[1;33m\u001b[0m\u001b[1;33m\u001b[0m\u001b[0m\n\u001b[1;32m-> 1599\u001b[1;33m             \u001b[1;32mreturn\u001b[0m \u001b[0mfunc\u001b[0m\u001b[1;33m(\u001b[0m\u001b[0max\u001b[0m\u001b[1;33m,\u001b[0m \u001b[1;33m*\u001b[0m\u001b[0mmap\u001b[0m\u001b[1;33m(\u001b[0m\u001b[0msanitize_sequence\u001b[0m\u001b[1;33m,\u001b[0m \u001b[0margs\u001b[0m\u001b[1;33m)\u001b[0m\u001b[1;33m,\u001b[0m \u001b[1;33m**\u001b[0m\u001b[0mkwargs\u001b[0m\u001b[1;33m)\u001b[0m\u001b[1;33m\u001b[0m\u001b[1;33m\u001b[0m\u001b[0m\n\u001b[0m\u001b[0;32m   1600\u001b[0m \u001b[1;33m\u001b[0m\u001b[0m\n\u001b[0;32m   1601\u001b[0m         \u001b[0mbound\u001b[0m \u001b[1;33m=\u001b[0m \u001b[0mnew_sig\u001b[0m\u001b[1;33m.\u001b[0m\u001b[0mbind\u001b[0m\u001b[1;33m(\u001b[0m\u001b[0max\u001b[0m\u001b[1;33m,\u001b[0m \u001b[1;33m*\u001b[0m\u001b[0margs\u001b[0m\u001b[1;33m,\u001b[0m \u001b[1;33m**\u001b[0m\u001b[0mkwargs\u001b[0m\u001b[1;33m)\u001b[0m\u001b[1;33m\u001b[0m\u001b[1;33m\u001b[0m\u001b[0m\n",
      "\u001b[1;32m~\\anaconda3\\lib\\site-packages\\matplotlib\\axes\\_axes.py\u001b[0m in \u001b[0;36mscatter\u001b[1;34m(self, x, y, s, c, marker, cmap, norm, vmin, vmax, alpha, linewidths, verts, edgecolors, plotnonfinite, **kwargs)\u001b[0m\n\u001b[0;32m   4441\u001b[0m         \u001b[0my\u001b[0m \u001b[1;33m=\u001b[0m \u001b[0mnp\u001b[0m\u001b[1;33m.\u001b[0m\u001b[0mma\u001b[0m\u001b[1;33m.\u001b[0m\u001b[0mravel\u001b[0m\u001b[1;33m(\u001b[0m\u001b[0my\u001b[0m\u001b[1;33m)\u001b[0m\u001b[1;33m\u001b[0m\u001b[1;33m\u001b[0m\u001b[0m\n\u001b[0;32m   4442\u001b[0m         \u001b[1;32mif\u001b[0m \u001b[0mx\u001b[0m\u001b[1;33m.\u001b[0m\u001b[0msize\u001b[0m \u001b[1;33m!=\u001b[0m \u001b[0my\u001b[0m\u001b[1;33m.\u001b[0m\u001b[0msize\u001b[0m\u001b[1;33m:\u001b[0m\u001b[1;33m\u001b[0m\u001b[1;33m\u001b[0m\u001b[0m\n\u001b[1;32m-> 4443\u001b[1;33m             \u001b[1;32mraise\u001b[0m \u001b[0mValueError\u001b[0m\u001b[1;33m(\u001b[0m\u001b[1;34m\"x and y must be the same size\"\u001b[0m\u001b[1;33m)\u001b[0m\u001b[1;33m\u001b[0m\u001b[1;33m\u001b[0m\u001b[0m\n\u001b[0m\u001b[0;32m   4444\u001b[0m \u001b[1;33m\u001b[0m\u001b[0m\n\u001b[0;32m   4445\u001b[0m         \u001b[1;32mif\u001b[0m \u001b[0ms\u001b[0m \u001b[1;32mis\u001b[0m \u001b[1;32mNone\u001b[0m\u001b[1;33m:\u001b[0m\u001b[1;33m\u001b[0m\u001b[1;33m\u001b[0m\u001b[0m\n",
      "\u001b[1;31mValueError\u001b[0m: x and y must be the same size"
     ]
    },
    {
     "data": {
      "image/png": "[encoded data removed]",
      "text/plain": [
       "<Figure size 432x288 with 1 Axes>"
      ]
     },
     "metadata": {
      "needs_background": "light"
     },
     "output_type": "display_data"
    }
   ],
   "source": [
    "plt.scatter(dow, kospi, marker='.')"
   ]
  },
  {
   "cell_type": "code",
   "execution_count": 12,
   "metadata": {
    "scrolled": true
   },
   "outputs": [
    {
     "name": "stdout",
     "output_type": "stream",
     "text": [
      "False\n",
      "5229\n",
      "5115\n"
     ]
    }
   ],
   "source": [
    "print(len(dow)==len(kospi))\n",
    "print(len(dow))\n",
    "print(len(kospi))"
   ]
  },
  {
   "cell_type": "code",
   "execution_count": 13,
   "metadata": {},
   "outputs": [
    {
     "data": {
      "text/html": [
       "<div>\n",
       "<style scoped>\n",
       "    .dataframe tbody tr th:only-of-type {\n",
       "        vertical-align: middle;\n",
       "    }\n",
       "\n",
       "    .dataframe tbody tr th {\n",
       "        vertical-align: top;\n",
       "    }\n",
       "\n",
       "    .dataframe thead th {\n",
       "        text-align: right;\n",
       "    }\n",
       "</style>\n",
       "<table border=\"1\" class=\"dataframe\">\n",
       "  <thead>\n",
       "    <tr style=\"text-align: right;\">\n",
       "      <th></th>\n",
       "      <th>Dow</th>\n",
       "      <th>KOSPI</th>\n",
       "    </tr>\n",
       "    <tr>\n",
       "      <th>Date</th>\n",
       "      <th></th>\n",
       "      <th></th>\n",
       "    </tr>\n",
       "  </thead>\n",
       "  <tbody>\n",
       "    <tr>\n",
       "      <th>2000-01-03</th>\n",
       "      <td>11357.509766</td>\n",
       "      <td>NaN</td>\n",
       "    </tr>\n",
       "    <tr>\n",
       "      <th>2000-01-04</th>\n",
       "      <td>10997.929688</td>\n",
       "      <td>1059.040039</td>\n",
       "    </tr>\n",
       "    <tr>\n",
       "      <th>2000-01-05</th>\n",
       "      <td>11122.650391</td>\n",
       "      <td>986.309998</td>\n",
       "    </tr>\n",
       "    <tr>\n",
       "      <th>2000-01-06</th>\n",
       "      <td>11253.259766</td>\n",
       "      <td>960.789978</td>\n",
       "    </tr>\n",
       "    <tr>\n",
       "      <th>2000-01-07</th>\n",
       "      <td>11522.559570</td>\n",
       "      <td>948.650024</td>\n",
       "    </tr>\n",
       "    <tr>\n",
       "      <th>...</th>\n",
       "      <td>...</td>\n",
       "      <td>...</td>\n",
       "    </tr>\n",
       "    <tr>\n",
       "      <th>2020-10-08</th>\n",
       "      <td>28425.509766</td>\n",
       "      <td>2391.959961</td>\n",
       "    </tr>\n",
       "    <tr>\n",
       "      <th>2020-10-09</th>\n",
       "      <td>28586.900391</td>\n",
       "      <td>NaN</td>\n",
       "    </tr>\n",
       "    <tr>\n",
       "      <th>2020-10-12</th>\n",
       "      <td>28837.519531</td>\n",
       "      <td>2403.729980</td>\n",
       "    </tr>\n",
       "    <tr>\n",
       "      <th>2020-10-13</th>\n",
       "      <td>28679.810547</td>\n",
       "      <td>2403.149902</td>\n",
       "    </tr>\n",
       "    <tr>\n",
       "      <th>2020-10-14</th>\n",
       "      <td>NaN</td>\n",
       "      <td>2380.479980</td>\n",
       "    </tr>\n",
       "  </tbody>\n",
       "</table>\n",
       "<p>5386 rows × 2 columns</p>\n",
       "</div>"
      ],
      "text/plain": [
       "                     Dow        KOSPI\n",
       "Date                                 \n",
       "2000-01-03  11357.509766          NaN\n",
       "2000-01-04  10997.929688  1059.040039\n",
       "2000-01-05  11122.650391   986.309998\n",
       "2000-01-06  11253.259766   960.789978\n",
       "2000-01-07  11522.559570   948.650024\n",
       "...                  ...          ...\n",
       "2020-10-08  28425.509766  2391.959961\n",
       "2020-10-09  28586.900391          NaN\n",
       "2020-10-12  28837.519531  2403.729980\n",
       "2020-10-13  28679.810547  2403.149902\n",
       "2020-10-14           NaN  2380.479980\n",
       "\n",
       "[5386 rows x 2 columns]"
      ]
     },
     "execution_count": 13,
     "metadata": {},
     "output_type": "execute_result"
    }
   ],
   "source": [
    "import pandas as pd\n",
    "df = pd.DataFrame({'Dow' : dow['Close'], 'KOSPI' : kospi['Close']})\n",
    "df"
   ]
  },
  {
   "cell_type": "code",
   "execution_count": 14,
   "metadata": {},
   "outputs": [
    {
     "data": {
      "text/html": [
       "<div>\n",
       "<style scoped>\n",
       "    .dataframe tbody tr th:only-of-type {\n",
       "        vertical-align: middle;\n",
       "    }\n",
       "\n",
       "    .dataframe tbody tr th {\n",
       "        vertical-align: top;\n",
       "    }\n",
       "\n",
       "    .dataframe thead th {\n",
       "        text-align: right;\n",
       "    }\n",
       "</style>\n",
       "<table border=\"1\" class=\"dataframe\">\n",
       "  <thead>\n",
       "    <tr style=\"text-align: right;\">\n",
       "      <th></th>\n",
       "      <th>Dow</th>\n",
       "      <th>KOSPI</th>\n",
       "    </tr>\n",
       "    <tr>\n",
       "      <th>Date</th>\n",
       "      <th></th>\n",
       "      <th></th>\n",
       "    </tr>\n",
       "  </thead>\n",
       "  <tbody>\n",
       "    <tr>\n",
       "      <th>2000-01-03</th>\n",
       "      <td>11357.509766</td>\n",
       "      <td>1059.040039</td>\n",
       "    </tr>\n",
       "    <tr>\n",
       "      <th>2000-01-04</th>\n",
       "      <td>10997.929688</td>\n",
       "      <td>1059.040039</td>\n",
       "    </tr>\n",
       "    <tr>\n",
       "      <th>2000-01-05</th>\n",
       "      <td>11122.650391</td>\n",
       "      <td>986.309998</td>\n",
       "    </tr>\n",
       "    <tr>\n",
       "      <th>2000-01-06</th>\n",
       "      <td>11253.259766</td>\n",
       "      <td>960.789978</td>\n",
       "    </tr>\n",
       "    <tr>\n",
       "      <th>2000-01-07</th>\n",
       "      <td>11522.559570</td>\n",
       "      <td>948.650024</td>\n",
       "    </tr>\n",
       "    <tr>\n",
       "      <th>...</th>\n",
       "      <td>...</td>\n",
       "      <td>...</td>\n",
       "    </tr>\n",
       "    <tr>\n",
       "      <th>2020-10-08</th>\n",
       "      <td>28425.509766</td>\n",
       "      <td>2391.959961</td>\n",
       "    </tr>\n",
       "    <tr>\n",
       "      <th>2020-10-09</th>\n",
       "      <td>28586.900391</td>\n",
       "      <td>2403.729980</td>\n",
       "    </tr>\n",
       "    <tr>\n",
       "      <th>2020-10-12</th>\n",
       "      <td>28837.519531</td>\n",
       "      <td>2403.729980</td>\n",
       "    </tr>\n",
       "    <tr>\n",
       "      <th>2020-10-13</th>\n",
       "      <td>28679.810547</td>\n",
       "      <td>2403.149902</td>\n",
       "    </tr>\n",
       "    <tr>\n",
       "      <th>2020-10-14</th>\n",
       "      <td>NaN</td>\n",
       "      <td>2380.479980</td>\n",
       "    </tr>\n",
       "  </tbody>\n",
       "</table>\n",
       "<p>5386 rows × 2 columns</p>\n",
       "</div>"
      ],
      "text/plain": [
       "                     Dow        KOSPI\n",
       "Date                                 \n",
       "2000-01-03  11357.509766  1059.040039\n",
       "2000-01-04  10997.929688  1059.040039\n",
       "2000-01-05  11122.650391   986.309998\n",
       "2000-01-06  11253.259766   960.789978\n",
       "2000-01-07  11522.559570   948.650024\n",
       "...                  ...          ...\n",
       "2020-10-08  28425.509766  2391.959961\n",
       "2020-10-09  28586.900391  2403.729980\n",
       "2020-10-12  28837.519531  2403.729980\n",
       "2020-10-13  28679.810547  2403.149902\n",
       "2020-10-14           NaN  2380.479980\n",
       "\n",
       "[5386 rows x 2 columns]"
      ]
     },
     "execution_count": 14,
     "metadata": {},
     "output_type": "execute_result"
    }
   ],
   "source": [
    "df.fillna(method='bfill')"
   ]
  },
  {
   "cell_type": "code",
   "execution_count": 15,
   "metadata": {
    "scrolled": true
   },
   "outputs": [
    {
     "data": {
      "text/html": [
       "<div>\n",
       "<style scoped>\n",
       "    .dataframe tbody tr th:only-of-type {\n",
       "        vertical-align: middle;\n",
       "    }\n",
       "\n",
       "    .dataframe tbody tr th {\n",
       "        vertical-align: top;\n",
       "    }\n",
       "\n",
       "    .dataframe thead th {\n",
       "        text-align: right;\n",
       "    }\n",
       "</style>\n",
       "<table border=\"1\" class=\"dataframe\">\n",
       "  <thead>\n",
       "    <tr style=\"text-align: right;\">\n",
       "      <th></th>\n",
       "      <th>Dow</th>\n",
       "      <th>KOSPI</th>\n",
       "    </tr>\n",
       "    <tr>\n",
       "      <th>Date</th>\n",
       "      <th></th>\n",
       "      <th></th>\n",
       "    </tr>\n",
       "  </thead>\n",
       "  <tbody>\n",
       "    <tr>\n",
       "      <th>2000-01-03</th>\n",
       "      <td>11357.509766</td>\n",
       "      <td>NaN</td>\n",
       "    </tr>\n",
       "    <tr>\n",
       "      <th>2000-01-04</th>\n",
       "      <td>10997.929688</td>\n",
       "      <td>1059.040039</td>\n",
       "    </tr>\n",
       "    <tr>\n",
       "      <th>2000-01-05</th>\n",
       "      <td>11122.650391</td>\n",
       "      <td>986.309998</td>\n",
       "    </tr>\n",
       "    <tr>\n",
       "      <th>2000-01-06</th>\n",
       "      <td>11253.259766</td>\n",
       "      <td>960.789978</td>\n",
       "    </tr>\n",
       "    <tr>\n",
       "      <th>2000-01-07</th>\n",
       "      <td>11522.559570</td>\n",
       "      <td>948.650024</td>\n",
       "    </tr>\n",
       "    <tr>\n",
       "      <th>...</th>\n",
       "      <td>...</td>\n",
       "      <td>...</td>\n",
       "    </tr>\n",
       "    <tr>\n",
       "      <th>2020-10-08</th>\n",
       "      <td>28425.509766</td>\n",
       "      <td>2391.959961</td>\n",
       "    </tr>\n",
       "    <tr>\n",
       "      <th>2020-10-09</th>\n",
       "      <td>28586.900391</td>\n",
       "      <td>2391.959961</td>\n",
       "    </tr>\n",
       "    <tr>\n",
       "      <th>2020-10-12</th>\n",
       "      <td>28837.519531</td>\n",
       "      <td>2403.729980</td>\n",
       "    </tr>\n",
       "    <tr>\n",
       "      <th>2020-10-13</th>\n",
       "      <td>28679.810547</td>\n",
       "      <td>2403.149902</td>\n",
       "    </tr>\n",
       "    <tr>\n",
       "      <th>2020-10-14</th>\n",
       "      <td>28679.810547</td>\n",
       "      <td>2380.479980</td>\n",
       "    </tr>\n",
       "  </tbody>\n",
       "</table>\n",
       "<p>5386 rows × 2 columns</p>\n",
       "</div>"
      ],
      "text/plain": [
       "                     Dow        KOSPI\n",
       "Date                                 \n",
       "2000-01-03  11357.509766          NaN\n",
       "2000-01-04  10997.929688  1059.040039\n",
       "2000-01-05  11122.650391   986.309998\n",
       "2000-01-06  11253.259766   960.789978\n",
       "2000-01-07  11522.559570   948.650024\n",
       "...                  ...          ...\n",
       "2020-10-08  28425.509766  2391.959961\n",
       "2020-10-09  28586.900391  2391.959961\n",
       "2020-10-12  28837.519531  2403.729980\n",
       "2020-10-13  28679.810547  2403.149902\n",
       "2020-10-14  28679.810547  2380.479980\n",
       "\n",
       "[5386 rows x 2 columns]"
      ]
     },
     "execution_count": 15,
     "metadata": {},
     "output_type": "execute_result"
    }
   ],
   "source": [
    "df.fillna(method='ffill', limit=1)"
   ]
  },
  {
   "cell_type": "code",
   "execution_count": 16,
   "metadata": {
    "scrolled": false
   },
   "outputs": [
    {
     "data": {
      "text/html": [
       "<div>\n",
       "<style scoped>\n",
       "    .dataframe tbody tr th:only-of-type {\n",
       "        vertical-align: middle;\n",
       "    }\n",
       "\n",
       "    .dataframe tbody tr th {\n",
       "        vertical-align: top;\n",
       "    }\n",
       "\n",
       "    .dataframe thead th {\n",
       "        text-align: right;\n",
       "    }\n",
       "</style>\n",
       "<table border=\"1\" class=\"dataframe\">\n",
       "  <thead>\n",
       "    <tr style=\"text-align: right;\">\n",
       "      <th></th>\n",
       "      <th>Dow</th>\n",
       "      <th>KOSPI</th>\n",
       "    </tr>\n",
       "    <tr>\n",
       "      <th>Date</th>\n",
       "      <th></th>\n",
       "      <th></th>\n",
       "    </tr>\n",
       "  </thead>\n",
       "  <tbody>\n",
       "    <tr>\n",
       "      <th>2000-01-03</th>\n",
       "      <td>11357.509766</td>\n",
       "      <td>1571.891500</td>\n",
       "    </tr>\n",
       "    <tr>\n",
       "      <th>2000-01-04</th>\n",
       "      <td>10997.929688</td>\n",
       "      <td>1059.040039</td>\n",
       "    </tr>\n",
       "    <tr>\n",
       "      <th>2000-01-05</th>\n",
       "      <td>11122.650391</td>\n",
       "      <td>986.309998</td>\n",
       "    </tr>\n",
       "    <tr>\n",
       "      <th>2000-01-06</th>\n",
       "      <td>11253.259766</td>\n",
       "      <td>960.789978</td>\n",
       "    </tr>\n",
       "    <tr>\n",
       "      <th>2000-01-07</th>\n",
       "      <td>11522.559570</td>\n",
       "      <td>948.650024</td>\n",
       "    </tr>\n",
       "    <tr>\n",
       "      <th>...</th>\n",
       "      <td>...</td>\n",
       "      <td>...</td>\n",
       "    </tr>\n",
       "    <tr>\n",
       "      <th>2020-10-08</th>\n",
       "      <td>28425.509766</td>\n",
       "      <td>2391.959961</td>\n",
       "    </tr>\n",
       "    <tr>\n",
       "      <th>2020-10-09</th>\n",
       "      <td>28586.900391</td>\n",
       "      <td>1571.891500</td>\n",
       "    </tr>\n",
       "    <tr>\n",
       "      <th>2020-10-12</th>\n",
       "      <td>28837.519531</td>\n",
       "      <td>2403.729980</td>\n",
       "    </tr>\n",
       "    <tr>\n",
       "      <th>2020-10-13</th>\n",
       "      <td>28679.810547</td>\n",
       "      <td>2403.149902</td>\n",
       "    </tr>\n",
       "    <tr>\n",
       "      <th>2020-10-14</th>\n",
       "      <td>14502.678718</td>\n",
       "      <td>2380.479980</td>\n",
       "    </tr>\n",
       "  </tbody>\n",
       "</table>\n",
       "<p>5386 rows × 2 columns</p>\n",
       "</div>"
      ],
      "text/plain": [
       "                     Dow        KOSPI\n",
       "Date                                 \n",
       "2000-01-03  11357.509766  1571.891500\n",
       "2000-01-04  10997.929688  1059.040039\n",
       "2000-01-05  11122.650391   986.309998\n",
       "2000-01-06  11253.259766   960.789978\n",
       "2000-01-07  11522.559570   948.650024\n",
       "...                  ...          ...\n",
       "2020-10-08  28425.509766  2391.959961\n",
       "2020-10-09  28586.900391  1571.891500\n",
       "2020-10-12  28837.519531  2403.729980\n",
       "2020-10-13  28679.810547  2403.149902\n",
       "2020-10-14  14502.678718  2380.479980\n",
       "\n",
       "[5386 rows x 2 columns]"
      ]
     },
     "execution_count": 16,
     "metadata": {},
     "output_type": "execute_result"
    }
   ],
   "source": [
    "df.fillna(df.mean())"
   ]
  },
  {
   "cell_type": "code",
   "execution_count": 17,
   "metadata": {},
   "outputs": [
    {
     "data": {
      "text/html": [
       "<div>\n",
       "<style scoped>\n",
       "    .dataframe tbody tr th:only-of-type {\n",
       "        vertical-align: middle;\n",
       "    }\n",
       "\n",
       "    .dataframe tbody tr th {\n",
       "        vertical-align: top;\n",
       "    }\n",
       "\n",
       "    .dataframe thead th {\n",
       "        text-align: right;\n",
       "    }\n",
       "</style>\n",
       "<table border=\"1\" class=\"dataframe\">\n",
       "  <thead>\n",
       "    <tr style=\"text-align: right;\">\n",
       "      <th></th>\n",
       "      <th>Dow</th>\n",
       "      <th>KOSPI</th>\n",
       "    </tr>\n",
       "    <tr>\n",
       "      <th>Date</th>\n",
       "      <th></th>\n",
       "      <th></th>\n",
       "    </tr>\n",
       "  </thead>\n",
       "  <tbody>\n",
       "    <tr>\n",
       "      <th>2000-01-03</th>\n",
       "      <td>11357.509766</td>\n",
       "      <td>1806.239990</td>\n",
       "    </tr>\n",
       "    <tr>\n",
       "      <th>2000-01-04</th>\n",
       "      <td>10997.929688</td>\n",
       "      <td>1059.040039</td>\n",
       "    </tr>\n",
       "    <tr>\n",
       "      <th>2000-01-05</th>\n",
       "      <td>11122.650391</td>\n",
       "      <td>986.309998</td>\n",
       "    </tr>\n",
       "    <tr>\n",
       "      <th>2000-01-06</th>\n",
       "      <td>11253.259766</td>\n",
       "      <td>960.789978</td>\n",
       "    </tr>\n",
       "    <tr>\n",
       "      <th>2000-01-07</th>\n",
       "      <td>11522.559570</td>\n",
       "      <td>948.650024</td>\n",
       "    </tr>\n",
       "    <tr>\n",
       "      <th>...</th>\n",
       "      <td>...</td>\n",
       "      <td>...</td>\n",
       "    </tr>\n",
       "    <tr>\n",
       "      <th>2020-10-08</th>\n",
       "      <td>28425.509766</td>\n",
       "      <td>2391.959961</td>\n",
       "    </tr>\n",
       "    <tr>\n",
       "      <th>2020-10-09</th>\n",
       "      <td>28586.900391</td>\n",
       "      <td>1806.239990</td>\n",
       "    </tr>\n",
       "    <tr>\n",
       "      <th>2020-10-12</th>\n",
       "      <td>28837.519531</td>\n",
       "      <td>2403.729980</td>\n",
       "    </tr>\n",
       "    <tr>\n",
       "      <th>2020-10-13</th>\n",
       "      <td>28679.810547</td>\n",
       "      <td>2403.149902</td>\n",
       "    </tr>\n",
       "    <tr>\n",
       "      <th>2020-10-14</th>\n",
       "      <td>12285.150391</td>\n",
       "      <td>2380.479980</td>\n",
       "    </tr>\n",
       "  </tbody>\n",
       "</table>\n",
       "<p>5386 rows × 2 columns</p>\n",
       "</div>"
      ],
      "text/plain": [
       "                     Dow        KOSPI\n",
       "Date                                 \n",
       "2000-01-03  11357.509766  1806.239990\n",
       "2000-01-04  10997.929688  1059.040039\n",
       "2000-01-05  11122.650391   986.309998\n",
       "2000-01-06  11253.259766   960.789978\n",
       "2000-01-07  11522.559570   948.650024\n",
       "...                  ...          ...\n",
       "2020-10-08  28425.509766  2391.959961\n",
       "2020-10-09  28586.900391  1806.239990\n",
       "2020-10-12  28837.519531  2403.729980\n",
       "2020-10-13  28679.810547  2403.149902\n",
       "2020-10-14  12285.150391  2380.479980\n",
       "\n",
       "[5386 rows x 2 columns]"
      ]
     },
     "execution_count": 17,
     "metadata": {},
     "output_type": "execute_result"
    }
   ],
   "source": [
    "df.where(pd.notnull(df), df.median(), axis='columns')"
   ]
  },
  {
   "cell_type": "code",
   "execution_count": 18,
   "metadata": {},
   "outputs": [],
   "source": [
    "df = pd.DataFrame({'Dow' : dow['Close'], 'KOSPI' : kospi['Close']})\n",
    "df = df.fillna(method='bfill')\n",
    "df = df.fillna(method='ffill')"
   ]
  },
  {
   "cell_type": "code",
   "execution_count": 19,
   "metadata": {},
   "outputs": [
    {
     "data": {
      "text/html": [
       "<div>\n",
       "<style scoped>\n",
       "    .dataframe tbody tr th:only-of-type {\n",
       "        vertical-align: middle;\n",
       "    }\n",
       "\n",
       "    .dataframe tbody tr th {\n",
       "        vertical-align: top;\n",
       "    }\n",
       "\n",
       "    .dataframe thead th {\n",
       "        text-align: right;\n",
       "    }\n",
       "</style>\n",
       "<table border=\"1\" class=\"dataframe\">\n",
       "  <thead>\n",
       "    <tr style=\"text-align: right;\">\n",
       "      <th></th>\n",
       "      <th>Dow</th>\n",
       "      <th>KOSPI</th>\n",
       "    </tr>\n",
       "    <tr>\n",
       "      <th>Date</th>\n",
       "      <th></th>\n",
       "      <th></th>\n",
       "    </tr>\n",
       "  </thead>\n",
       "  <tbody>\n",
       "    <tr>\n",
       "      <th>2000-01-03</th>\n",
       "      <td>11357.509766</td>\n",
       "      <td>1059.040039</td>\n",
       "    </tr>\n",
       "    <tr>\n",
       "      <th>2000-01-04</th>\n",
       "      <td>10997.929688</td>\n",
       "      <td>1059.040039</td>\n",
       "    </tr>\n",
       "    <tr>\n",
       "      <th>2000-01-05</th>\n",
       "      <td>11122.650391</td>\n",
       "      <td>986.309998</td>\n",
       "    </tr>\n",
       "    <tr>\n",
       "      <th>2000-01-06</th>\n",
       "      <td>11253.259766</td>\n",
       "      <td>960.789978</td>\n",
       "    </tr>\n",
       "    <tr>\n",
       "      <th>2000-01-07</th>\n",
       "      <td>11522.559570</td>\n",
       "      <td>948.650024</td>\n",
       "    </tr>\n",
       "    <tr>\n",
       "      <th>...</th>\n",
       "      <td>...</td>\n",
       "      <td>...</td>\n",
       "    </tr>\n",
       "    <tr>\n",
       "      <th>2020-10-08</th>\n",
       "      <td>28425.509766</td>\n",
       "      <td>2391.959961</td>\n",
       "    </tr>\n",
       "    <tr>\n",
       "      <th>2020-10-09</th>\n",
       "      <td>28586.900391</td>\n",
       "      <td>2403.729980</td>\n",
       "    </tr>\n",
       "    <tr>\n",
       "      <th>2020-10-12</th>\n",
       "      <td>28837.519531</td>\n",
       "      <td>2403.729980</td>\n",
       "    </tr>\n",
       "    <tr>\n",
       "      <th>2020-10-13</th>\n",
       "      <td>28679.810547</td>\n",
       "      <td>2403.149902</td>\n",
       "    </tr>\n",
       "    <tr>\n",
       "      <th>2020-10-14</th>\n",
       "      <td>28679.810547</td>\n",
       "      <td>2380.479980</td>\n",
       "    </tr>\n",
       "  </tbody>\n",
       "</table>\n",
       "<p>5386 rows × 2 columns</p>\n",
       "</div>"
      ],
      "text/plain": [
       "                     Dow        KOSPI\n",
       "Date                                 \n",
       "2000-01-03  11357.509766  1059.040039\n",
       "2000-01-04  10997.929688  1059.040039\n",
       "2000-01-05  11122.650391   986.309998\n",
       "2000-01-06  11253.259766   960.789978\n",
       "2000-01-07  11522.559570   948.650024\n",
       "...                  ...          ...\n",
       "2020-10-08  28425.509766  2391.959961\n",
       "2020-10-09  28586.900391  2403.729980\n",
       "2020-10-12  28837.519531  2403.729980\n",
       "2020-10-13  28679.810547  2403.149902\n",
       "2020-10-14  28679.810547  2380.479980\n",
       "\n",
       "[5386 rows x 2 columns]"
      ]
     },
     "execution_count": 19,
     "metadata": {},
     "output_type": "execute_result"
    }
   ],
   "source": [
    "df"
   ]
  },
  {
   "cell_type": "code",
   "execution_count": 20,
   "metadata": {},
   "outputs": [
    {
     "data": {
      "text/plain": [
       "<matplotlib.collections.PathCollection at 0x238d2ab2548>"
      ]
     },
     "execution_count": 20,
     "metadata": {},
     "output_type": "execute_result"
    },
    {
     "data": {
      "image/png": "[encoded data removed]",
      "text/plain": [
       "<Figure size 720x720 with 1 Axes>"
      ]
     },
     "metadata": {
      "needs_background": "light"
     },
     "output_type": "display_data"
    }
   ],
   "source": [
    "plt.figure(figsize=(10, 10))\n",
    "plt.scatter(df['Dow'], df['KOSPI'], marker='.')"
   ]
  },
  {
   "cell_type": "markdown",
   "metadata": {},
   "source": [
    "# 4. 사이파이 선형 회귀 분석"
   ]
  },
  {
   "cell_type": "code",
   "execution_count": null,
   "metadata": {
    "scrolled": true
   },
   "outputs": [],
   "source": [
    "pip install scipy"
   ]
  },
  {
   "cell_type": "markdown",
   "metadata": {},
   "source": [
    "# 5. 선형 회귀 분석"
   ]
  },
  {
   "cell_type": "code",
   "execution_count": 21,
   "metadata": {},
   "outputs": [
    {
     "data": {
      "text/plain": [
       "LinregressResult(slope=0.07761981050316609, intercept=448.3148185133307, rvalue=0.7488943015394773, pvalue=0.0, stderr=0.0009360727272522682)"
      ]
     },
     "execution_count": 21,
     "metadata": {},
     "output_type": "execute_result"
    }
   ],
   "source": [
    "from scipy import stats\n",
    "regr = stats.linregress(df['Dow'], df['KOSPI'])\n",
    "regr"
   ]
  },
  {
   "cell_type": "code",
   "execution_count": 22,
   "metadata": {},
   "outputs": [
    {
     "name": "stdout",
     "output_type": "stream",
     "text": [
      "y= 0.077620 x + 448.314819\n"
     ]
    }
   ],
   "source": [
    "print(\"y= %f x + %f\"  %(regr.slope, regr.intercept))"
   ]
  }
 ],
 "metadata": {
  "kernelspec": {
   "display_name": "Python 3",
   "language": "python",
   "name": "python3"
  },
  "language_info": {
   "codemirror_mode": {
    "name": "ipython",
    "version": 3
   },
   "file_extension": ".py",
   "mimetype": "text/x-python",
   "name": "python",
   "nbconvert_exporter": "python",
   "pygments_lexer": "ipython3",
   "version": "3.7.6"
  }
 },
 "nbformat": 4,
 "nbformat_minor": 4
}
